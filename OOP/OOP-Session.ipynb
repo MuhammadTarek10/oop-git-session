{
 "cells": [
  {
   "cell_type": "markdown",
   "id": "6c0e03a8",
   "metadata": {},
   "source": [
    "<h1>Object Orianted Programming (OOP)</h1>"
   ]
  },
  {
   "cell_type": "markdown",
   "id": "5aa30890",
   "metadata": {},
   "source": [
    "<font size=\"3\">It's a concept rather than just using the tools. The Idea is based on the seperation of concenrns.\\\n",
    "It all based on <b>Objects</b>. Dividing the <b>Business Logic</b> into components and interacting with each other."
   ]
  },
  {
   "cell_type": "markdown",
   "id": "ef380fe4",
   "metadata": {},
   "source": [
    "<font size=\"3\"> Not All Language supports <b>OOP</b>, For Example <b>C Language</b> doesn't support oop.\\\n",
    "    So we'll be taking about the oop languages in the code example, we'll tell a short notice about these languages:\\\n",
    "    <b>C++, Python, Java, Javascript and Dart</b>"
   ]
  },
  {
   "cell_type": "markdown",
   "id": "28cd3f62",
   "metadata": {},
   "source": [
    "<h2>Classes and Objects</h2>"
   ]
  },
  {
   "cell_type": "markdown",
   "id": "ee871eee",
   "metadata": {},
   "source": [
    "<font size=\"3\"><b>The Class</b> is like the type and <b>The Object</b> is like the <I>Instance</I> that is being run.\n",
    "    \n",
    "A class is a program-code-template that allows developers to create an object that has both variables (data) and behaviors (functions or methods)."
   ]
  },
  {
   "cell_type": "markdown",
   "id": "7d3585d9",
   "metadata": {},
   "source": [
    "<font size=\"3\"> Class Concepts: \\\n",
    "    <b>\n",
    "        - Attributes.\\\n",
    "        - Methods.\\\n",
    "        - Constructors.\\\n",
    "        - Deconstructors.\\\n",
    "        - Access modifiers.\n",
    "    </b>"
   ]
  },
  {
   "cell_type": "markdown",
   "id": "f0fdb70f",
   "metadata": {},
   "source": [
    "<font size=\"3\"> There are 4 main concepts that always come with the <b>OOP</b>, there are:\\\n",
    "    <b>\n",
    "    - Encapsulation.\\\n",
    "    - Inheritance.\\\n",
    "    - Abstraction.\\\n",
    "    - Polymorphism.\n",
    "    </b>"
   ]
  },
  {
   "cell_type": "markdown",
   "id": "41a47201",
   "metadata": {},
   "source": [
    "----"
   ]
  },
  {
   "cell_type": "markdown",
   "id": "da307b16",
   "metadata": {},
   "source": [
    "<h2>Encapsulation</h2>"
   ]
  },
  {
   "cell_type": "markdown",
   "id": "a6f4908c",
   "metadata": {},
   "source": [
    "<h3>What is it?</h3>"
   ]
  },
  {
   "cell_type": "markdown",
   "id": "a9267edb",
   "metadata": {},
   "source": [
    "<font size=\"3\">A class is an example of encapsulation in computer science in that it consists of data and methods that have been bundled into a single unit.\\\n",
    "It's by Making members private, allowing access to members of the same class only (or descendants)."
   ]
  },
  {
   "cell_type": "markdown",
   "id": "dae54cb4",
   "metadata": {},
   "source": [
    "<h3>How? -> See Code.</h3>"
   ]
  },
  {
   "cell_type": "markdown",
   "id": "4834f4c8",
   "metadata": {},
   "source": [
    "<h3>Benefits</h3>"
   ]
  },
  {
   "cell_type": "markdown",
   "id": "10954f0d",
   "metadata": {},
   "source": [
    "\n",
    "<font size=\"3\"> - Encapsulation protects an object from unwanted access by clients.\\\n",
    "<font size=\"3\"> - Encapsulation allows access to a level without revealing the complex details below that level.\\\n",
    "<font size=\"3\"> - It reduces human errors.\\\n",
    "<font size=\"3\"> - Simplifies the maintenance of the application\\\n",
    "<font size=\"3\"> - Makes the application easier to understand."
   ]
  },
  {
   "cell_type": "markdown",
   "id": "94a3a2bc",
   "metadata": {},
   "source": [
    "<h3>Go To Questions 1</h3>"
   ]
  },
  {
   "cell_type": "markdown",
   "id": "16bedb85",
   "metadata": {},
   "source": [
    "<h3>Excercise</h3>"
   ]
  },
  {
   "cell_type": "markdown",
   "id": "85640aa3",
   "metadata": {},
   "source": [
    "<font size=\"3\">1. Imagine a tollbooth at a bridge. Cars passing by the booth are expected to pay a 50 cent toll. Mostly they do, but sometimes a car goes by without paying. The tollbooth keeps track of the number of cars that have gone by, and of the total amount of money collected Model this tollbooth with a class called tollBooth. The two data items are a type unsigned int to hold the total number of cars, and a type double to hold the total amount of money collected. A constructor initializes both of these to 0. A member function called payingCar() increments the car total and adds 0.50 to the cash total. Another function, called nopayCar(), increments the car total but adds nothing to the cash total. Finally, a member function called display() displays the two totals. Make appropriate member functions const.\\\n",
    "Include a program to test this class. This program should allow the user to push one key\n",
    "to count a paying car, and another to count a nonpaying car. Pushing the Esc key should\n",
    "cause the program to print out the total cars and total cash and then exit"
   ]
  },
  {
   "cell_type": "markdown",
   "id": "f3455f51",
   "metadata": {},
   "source": [
    "----"
   ]
  },
  {
   "cell_type": "markdown",
   "id": "83c279e0",
   "metadata": {},
   "source": [
    "<h2>Inheritance</h2>"
   ]
  },
  {
   "cell_type": "markdown",
   "id": "031d3da2",
   "metadata": {},
   "source": [
    "<h3>What is it?</h3>"
   ]
  },
  {
   "cell_type": "markdown",
   "id": "8402769b",
   "metadata": {},
   "source": [
    "<font size=\"3\">The Ability of a class to derive properties and characteristics from another class. <b>Inheritance is the most important feature in OOP</b>. It's called the parent class and the descendants are called children."
   ]
  },
  {
   "cell_type": "markdown",
   "id": "03dbcb70",
   "metadata": {},
   "source": [
    "<h3>How? -> See Code.</h3>"
   ]
  },
  {
   "cell_type": "markdown",
   "id": "f8c3d69e",
   "metadata": {},
   "source": [
    "<h3>Benefits</h3>"
   ]
  },
  {
   "cell_type": "markdown",
   "id": "51f616cf",
   "metadata": {},
   "source": [
    "<font size=\"3\"> - It Allows the code to be reused as many times as needed.\\\n",
    "<font size=\"3\"> - The base class once defined and once it is compiled, it need not be reworked.\\\n",
    "<font size=\"3\"> - Saves time and effort as the main code need not be written again.\\\n",
    "<font size=\"3\"> - Many Advantages in Abstraction."
   ]
  },
  {
   "cell_type": "markdown",
   "id": "d8c461c5",
   "metadata": {},
   "source": [
    "----"
   ]
  },
  {
   "cell_type": "markdown",
   "id": "4ac654e0",
   "metadata": {},
   "source": [
    "<h2>Abstraction</h2>"
   ]
  },
  {
   "cell_type": "markdown",
   "id": "f07c3e30",
   "metadata": {},
   "source": [
    "<h3>What is it?</h3>"
   ]
  },
  {
   "cell_type": "markdown",
   "id": "c2b0af45",
   "metadata": {},
   "source": [
    "<font size=\"3\">Making a class that have the necessary members or methods that to be implemented in the inherited."
   ]
  },
  {
   "cell_type": "markdown",
   "id": "c75a6c81",
   "metadata": {},
   "source": [
    "<font size=\"3\">In practice, there are 2 famoues types that you need to know, and they are <b>Abstract Class and Interface</b>. Will state the difference and capapilities of each on on code."
   ]
  },
  {
   "cell_type": "markdown",
   "id": "9d133d0b",
   "metadata": {},
   "source": [
    "<h3>How? -> See Code.</h3>"
   ]
  },
  {
   "cell_type": "markdown",
   "id": "ac854940",
   "metadata": {},
   "source": [
    "<h3>Benefits</h3>"
   ]
  },
  {
   "cell_type": "markdown",
   "id": "cccb37d9",
   "metadata": {},
   "source": [
    "<font size=\"3\"> - It reduces the complexity of viewing things.\\\n",
    "<font size=\"3\"> - Avoids code duplication and increases reusability.\\\n",
    "<font size=\"3\"> - Helps to increase the security of an application or program as only essential details are provided to the user.\\\n",
    "<font size=\"3\"> - It improves the maintainability of the application. \\\n",
    "<font size=\"3\"> - It improves the modularity of the application. \\\n",
    "<font size=\"3\"> - The enhancement will become very easy because without affecting end-users we can able to perform any type of changes in our internal system."
   ]
  },
  {
   "cell_type": "markdown",
   "id": "aae085ea",
   "metadata": {},
   "source": [
    "----"
   ]
  },
  {
   "cell_type": "markdown",
   "id": "74cb7a04",
   "metadata": {},
   "source": [
    "<h2>Polymorphism</h2>"
   ]
  },
  {
   "cell_type": "markdown",
   "id": "86ff7dc8",
   "metadata": {},
   "source": [
    "<h3>What it is?</h3>"
   ]
  },
  {
   "cell_type": "markdown",
   "id": "cf69a62c",
   "metadata": {},
   "source": [
    "<font size=\"3\">Polymorphism is one of the core concepts of object-oriented programming (OOP) and describes situations in which something occurs in several different forms. In computer science, it describes the concept that you can access objects of different types through the same interface. Each type can provide its own independent implementation of this interface."
   ]
  },
  {
   "cell_type": "markdown",
   "id": "e86f439e",
   "metadata": {},
   "source": [
    "<h3>Compile Time</h3>"
   ]
  },
  {
   "cell_type": "markdown",
   "id": "8818fc49",
   "metadata": {},
   "source": [
    "<font size=\"3\"> - Function Overloading.\\\n",
    "<font size=\"3\"> - Operator Overloading."
   ]
  },
  {
   "cell_type": "markdown",
   "id": "e99c1d79",
   "metadata": {},
   "source": [
    "<h3>Run Time</h3>"
   ]
  },
  {
   "cell_type": "markdown",
   "id": "468751a7",
   "metadata": {},
   "source": [
    "<font size=\"3\"> - Function Overriding.\\\n",
    "<font size=\"3\"> - Virtual Function.\\\n",
    "<font size=\"3\"> - Pure Virtual Function."
   ]
  },
  {
   "cell_type": "markdown",
   "id": "4bb39ffe",
   "metadata": {},
   "source": [
    "<h3>How? -> See Code.</h3>"
   ]
  },
  {
   "cell_type": "markdown",
   "id": "95506c18",
   "metadata": {},
   "source": [
    "<h3>Benefits</h3>"
   ]
  },
  {
   "cell_type": "markdown",
   "id": "d1948689",
   "metadata": {},
   "source": [
    "<font size=\"3\"> - The functionality of a method performs differently in various scenarios.\\\n",
    "<font size=\"3\"> - Depending on the data provided, the behaviour of the method changes. (Behavioral Design Pattern)\\\n",
    "<font size=\"3\"> - It permits a similar name for a member of the method in a class with several types.\\\n",
    "<font size=\"3\"> - It supports implicit type conversion."
   ]
  },
  {
   "cell_type": "markdown",
   "id": "5f686055",
   "metadata": {},
   "source": [
    "<h3>Go To Questions 2</h3>"
   ]
  },
  {
   "cell_type": "markdown",
   "id": "99d09714",
   "metadata": {},
   "source": [
    "<h3>Exercises</h3>"
   ]
  },
  {
   "cell_type": "markdown",
   "id": "e406e990",
   "metadata": {},
   "source": [
    "<font size=\"3\">2. Write a program that defines a shape class with a constructor that gives value to width and height. The define two sub-classes triangle and rectangle, that calculate the area of the shape area (). In the main, define two variables a triangle and a rectangle and then call the area() function in this two varibles."
   ]
  },
  {
   "cell_type": "markdown",
   "id": "45636c4d",
   "metadata": {},
   "source": [
    "<font size=\"3\">3. Write a program with a mother class and an inherited daugther class.Both of them should have a method void display ()that prints a message (different for mother and daugther).In the main define a daughter and call the display() method on it."
   ]
  },
  {
   "cell_type": "markdown",
   "id": "0662ab2d",
   "metadata": {},
   "source": [
    "<h1>Clean Code and Best Practice Tips<h1>"
   ]
  },
  {
   "cell_type": "markdown",
   "id": "d0681693",
   "metadata": {},
   "source": [
    "<font size=\"4\"> - Choose Meaningful names. (for variables and functions)\\\n",
    "<font size=\"4\"> - Seperation of concenrs. (Single Responsibily Principle)\\\n",
    "<font size=\"4\"> - Abstract Everything from the very start.\\\n",
    "<font size=\"4\"> - if you need 2 different behaviours, use Polymorphism.\\\n",
    "<font size=\"4\"> - Work with files. (Don't make implementation in header files)-> See Code."
   ]
  },
  {
   "cell_type": "markdown",
   "id": "81950434",
   "metadata": {},
   "source": [
    "-------"
   ]
  },
  {
   "cell_type": "markdown",
   "id": "5b2be0e3",
   "metadata": {},
   "source": [
    "<h2>Task</h2>"
   ]
  },
  {
   "cell_type": "markdown",
   "id": "b023e0a8",
   "metadata": {},
   "source": [
    "<font size=\"4\">1. Imagine a publishing company that markets both book and audiocassette versions of its works. Create a class publication that stores the title (a string) and price (type float) of a publication. From this class derive two classes: book, which adds a page count (type int), and tape, which adds a playing time in minutes (type float). Each of these three classes should have a getdata() function to get its data from the user at the keyboard, and a putdata() function to display its data. Write a main() program to test the book and tape classes by creating instances of them, asking the user to fill in data with getdata(), and then displaying the data with putdata()."
   ]
  },
  {
   "cell_type": "markdown",
   "id": "433d245a",
   "metadata": {},
   "source": [
    "<font size=\"4\">2. Start with the publication, book, and tape classes of Task 1. Add a base class sales that holds an array of three floats so that it can record the dollar sales of a particular publication for the last three months. Include a getdata() function to get three sales amounts from the user, and a putdata() function to display the sales figures. Alter the book and tape classes so they are derived from both publication and sales. An object of class book or tape should input and output sales data along with its other data. Write a main() function to create a book object and a tape object and exercise their input/output capabilities."
   ]
  },
  {
   "cell_type": "markdown",
   "id": "960354aa",
   "metadata": {},
   "source": [
    "<h1>For the Future: SOLID Principles and Design Patterns<h1>"
   ]
  }
 ],
 "metadata": {
  "kernelspec": {
   "display_name": "Python 3 (ipykernel)",
   "language": "python",
   "name": "python3"
  },
  "language_info": {
   "codemirror_mode": {
    "name": "ipython",
    "version": 3
   },
   "file_extension": ".py",
   "mimetype": "text/x-python",
   "name": "python",
   "nbconvert_exporter": "python",
   "pygments_lexer": "ipython3",
   "version": "3.9.13"
  }
 },
 "nbformat": 4,
 "nbformat_minor": 5
}
