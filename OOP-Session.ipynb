{
 "cells": [
  {
   "cell_type": "markdown",
   "id": "6c0e03a8",
   "metadata": {},
   "source": [
    "<h1>Object Orianted Programming (OOP)</h1>"
   ]
  },
  {
   "cell_type": "markdown",
   "id": "5aa30890",
   "metadata": {},
   "source": [
    "<font size=\"3\">It's a concept rather than just using the tools. The Idea is based on the seperation of concenrns.\\\n",
    "It all based on <b>Objects</b>. Dividing the <b>Business Logic</b> into components and interacting with each other."
   ]
  },
  {
   "cell_type": "markdown",
   "id": "28cd3f62",
   "metadata": {},
   "source": [
    "<h2>Classes and Objects</h2>"
   ]
  },
  {
   "cell_type": "markdown",
   "id": "ee871eee",
   "metadata": {},
   "source": [
    "<font size=\"3\"><b>The Class</b> is like the type and <b>The Object</b> is like the <I>Instance</I> that is being run.\n",
    "    \n",
    "A class is a program-code-template that allows developers to create an object that has both variables (data) and behaviors (functions or methods)."
   ]
  },
  {
   "cell_type": "markdown",
   "id": "f0fdb70f",
   "metadata": {},
   "source": [
    "<font size=\"3\"> There are 4 main concepts that always come with the <b>OOP</b>, there are:\\\n",
    "    <b>\n",
    "    - Encapsulation.\\\n",
    "    - Inheritance.\\\n",
    "    - Abstraction.\\\n",
    "    - Polymorphism.\n",
    "    </b>"
   ]
  },
  {
   "cell_type": "markdown",
   "id": "41a47201",
   "metadata": {},
   "source": [
    "----"
   ]
  },
  {
   "cell_type": "markdown",
   "id": "da307b16",
   "metadata": {},
   "source": [
    "<h2>Encapsulation</h2>"
   ]
  },
  {
   "cell_type": "markdown",
   "id": "a6f4908c",
   "metadata": {},
   "source": [
    "<h3>What is it?</h3>"
   ]
  },
  {
   "cell_type": "markdown",
   "id": "a9267edb",
   "metadata": {},
   "source": [
    "<font size=\"3\">A class is an example of encapsulation in computer science in that it consists of data and methods that have been bundled into a single unit.\\\n",
    "It's by Making members private, allowing access to members of the same class only (or descendants)."
   ]
  },
  {
   "cell_type": "markdown",
   "id": "dae54cb4",
   "metadata": {},
   "source": [
    "<h3>How? -> See Code.</h3>"
   ]
  },
  {
   "cell_type": "markdown",
   "id": "4834f4c8",
   "metadata": {},
   "source": [
    "<h3>Benefits</h3>"
   ]
  },
  {
   "cell_type": "markdown",
   "id": "10954f0d",
   "metadata": {},
   "source": [
    "\n",
    "<font size=\"3\"> - Encapsulation protects an object from unwanted access by clients.\\\n",
    "<font size=\"3\"> - Encapsulation allows access to a level without revealing the complex details below that level.\\\n",
    "<font size=\"3\"> - It reduces human errors.\\\n",
    "<font size=\"3\"> - Simplifies the maintenance of the application\\\n",
    "<font size=\"3\"> - Makes the application easier to understand."
   ]
  },
  {
   "cell_type": "markdown",
   "id": "f3455f51",
   "metadata": {},
   "source": [
    "----"
   ]
  },
  {
   "cell_type": "markdown",
   "id": "83c279e0",
   "metadata": {},
   "source": [
    "<h2>Inheritance</h2>"
   ]
  },
  {
   "cell_type": "markdown",
   "id": "031d3da2",
   "metadata": {},
   "source": [
    "<h3>What is it?</h3>"
   ]
  },
  {
   "cell_type": "markdown",
   "id": "f8c3d69e",
   "metadata": {},
   "source": [
    "<h3>Benefits</h3>"
   ]
  },
  {
   "cell_type": "markdown",
   "id": "22104113",
   "metadata": {},
   "source": [
    "<h3>How? -> See Code.</h3>"
   ]
  },
  {
   "cell_type": "markdown",
   "id": "d8c461c5",
   "metadata": {},
   "source": [
    "----"
   ]
  },
  {
   "cell_type": "markdown",
   "id": "4ac654e0",
   "metadata": {},
   "source": [
    "<h2>Abstraction</h2>"
   ]
  },
  {
   "cell_type": "markdown",
   "id": "f07c3e30",
   "metadata": {},
   "source": [
    "<h3>What is it?</h3>"
   ]
  },
  {
   "cell_type": "markdown",
   "id": "c2b0af45",
   "metadata": {},
   "source": [
    "<font size=\"3\">Making a class that have the necessary members or methods that to be implemented in the inherited."
   ]
  },
  {
   "cell_type": "markdown",
   "id": "ac854940",
   "metadata": {},
   "source": [
    "<h3>Benefits</h3>"
   ]
  },
  {
   "cell_type": "markdown",
   "id": "cccb37d9",
   "metadata": {},
   "source": [
    "<font size=\"3\"> - It reduces the complexity of viewing things.\\\n",
    "<font size=\"3\"> - Avoids code duplication and increases reusability.\\\n",
    "<font size=\"3\"> - Helps to increase the security of an application or program as only essential details are provided to the user.\\\n",
    "<font size=\"3\"> - It improves the maintainability of the application. \\\n",
    "<font size=\"3\"> - It improves the modularity of the application. \\\n",
    "<font size=\"3\"> - The enhancement will become very easy because without affecting end-users we can able to perform any type of changes in our internal system."
   ]
  },
  {
   "cell_type": "markdown",
   "id": "05d528da",
   "metadata": {},
   "source": [
    "<h3>How? -> See Code.</h3>"
   ]
  },
  {
   "cell_type": "markdown",
   "id": "aae085ea",
   "metadata": {},
   "source": [
    "----"
   ]
  },
  {
   "cell_type": "markdown",
   "id": "74cb7a04",
   "metadata": {},
   "source": [
    "<h2>Polymorphism</h2>"
   ]
  },
  {
   "cell_type": "markdown",
   "id": "86ff7dc8",
   "metadata": {},
   "source": [
    "<h3>What it is?</h3>"
   ]
  },
  {
   "cell_type": "markdown",
   "id": "95506c18",
   "metadata": {},
   "source": [
    "<h3>Benefits</h3>"
   ]
  },
  {
   "cell_type": "markdown",
   "id": "c4b99fda",
   "metadata": {},
   "source": [
    "<h3>How? -> See Code.</h3>"
   ]
  },
  {
   "cell_type": "code",
   "execution_count": null,
   "id": "bc4561e6",
   "metadata": {},
   "outputs": [],
   "source": []
  },
  {
   "cell_type": "code",
   "execution_count": null,
   "id": "dc14bce4",
   "metadata": {},
   "outputs": [],
   "source": []
  },
  {
   "cell_type": "markdown",
   "id": "0662ab2d",
   "metadata": {},
   "source": [
    "<h1>SOLID Principles<h1>"
   ]
  }
 ],
 "metadata": {
  "kernelspec": {
   "display_name": "Python 3 (ipykernel)",
   "language": "python",
   "name": "python3"
  },
  "language_info": {
   "codemirror_mode": {
    "name": "ipython",
    "version": 3
   },
   "file_extension": ".py",
   "mimetype": "text/x-python",
   "name": "python",
   "nbconvert_exporter": "python",
   "pygments_lexer": "ipython3",
   "version": "3.9.13"
  }
 },
 "nbformat": 4,
 "nbformat_minor": 5
}
